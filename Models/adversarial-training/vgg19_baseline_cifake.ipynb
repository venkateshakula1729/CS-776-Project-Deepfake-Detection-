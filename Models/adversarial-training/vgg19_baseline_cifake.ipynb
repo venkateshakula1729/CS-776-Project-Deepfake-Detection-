{
 "cells": [
  {
   "cell_type": "code",
   "execution_count": 1,
   "metadata": {
    "_cell_guid": "7777d9a5-a78d-4144-afcc-6d7e50a9e314",
    "_uuid": "ec75a193-4f2f-42cb-aa84-fb0ae0ae3837",
    "collapsed": false,
    "execution": {
     "iopub.execute_input": "2025-04-20T12:45:52.732523Z",
     "iopub.status.busy": "2025-04-20T12:45:52.732271Z",
     "iopub.status.idle": "2025-04-20T12:46:07.459089Z",
     "shell.execute_reply": "2025-04-20T12:46:07.458313Z",
     "shell.execute_reply.started": "2025-04-20T12:45:52.732498Z"
    },
    "jupyter": {
     "outputs_hidden": false
    },
    "trusted": true
   },
   "outputs": [
    {
     "name": "stderr",
     "output_type": "stream",
     "text": [
      "2025-04-20 12:45:54.041700: E external/local_xla/xla/stream_executor/cuda/cuda_fft.cc:477] Unable to register cuFFT factory: Attempting to register factory for plugin cuFFT when one has already been registered\n",
      "WARNING: All log messages before absl::InitializeLog() is called are written to STDERR\n",
      "E0000 00:00:1745153154.220740      31 cuda_dnn.cc:8310] Unable to register cuDNN factory: Attempting to register factory for plugin cuDNN when one has already been registered\n",
      "E0000 00:00:1745153154.271466      31 cuda_blas.cc:1418] Unable to register cuBLAS factory: Attempting to register factory for plugin cuBLAS when one has already been registered\n"
     ]
    },
    {
     "name": "stdout",
     "output_type": "stream",
     "text": [
      "[GPU setup] 1 Physical GPU(s) with memory growth enabled.\n"
     ]
    }
   ],
   "source": [
    "# Ensure TensorFlow uses GPU with dynamic memory growth\n",
    "import tensorflow as tf\n",
    "\n",
    "gpus = tf.config.list_physical_devices('GPU')\n",
    "if gpus:\n",
    "    for gpu in gpus:\n",
    "        tf.config.experimental.set_memory_growth(gpu, True)\n",
    "    print(f\"[GPU setup] {len(gpus)} Physical GPU(s) with memory growth enabled.\")\n",
    "else:\n",
    "    print(\"[GPU setup] No GPU found, using CPU.\")\n",
    "\n",
    "# Suppress warnings\n",
    "import os\n",
    "import warnings\n",
    "warnings.filterwarnings('ignore')\n",
    "\n",
    "# Core libraries\n",
    "import numpy as np\n",
    "from tensorflow.keras.preprocessing.image import ImageDataGenerator\n",
    "from tensorflow.keras.models import Model, load_model\n",
    "from tensorflow.keras.layers import Flatten, Dense, Dropout\n",
    "from tensorflow.keras.applications.vgg19 import VGG19, preprocess_input\n",
    "from sklearn.model_selection import train_test_split\n",
    "from tqdm import tqdm"
   ]
  },
  {
   "cell_type": "markdown",
   "metadata": {
    "_cell_guid": "4d77925f-00a6-41d0-b3e2-728e8b8ee830",
    "_uuid": "05e4e1dd-c454-405d-960d-260ebad334ae",
    "collapsed": false,
    "jupyter": {
     "outputs_hidden": false
    },
    "trusted": true
   },
   "source": [
    "# Build Pretrained VGG19"
   ]
  },
  {
   "cell_type": "code",
   "execution_count": 2,
   "metadata": {
    "_cell_guid": "43fa6a29-e5fb-476c-9ddb-a82b83701473",
    "_uuid": "e6b6fb7a-6853-412c-b566-d9b6b1b1e7f4",
    "collapsed": false,
    "execution": {
     "iopub.execute_input": "2025-04-20T12:46:10.767297Z",
     "iopub.status.busy": "2025-04-20T12:46:10.767006Z",
     "iopub.status.idle": "2025-04-20T12:46:10.772357Z",
     "shell.execute_reply": "2025-04-20T12:46:10.771555Z",
     "shell.execute_reply.started": "2025-04-20T12:46:10.767274Z"
    },
    "jupyter": {
     "outputs_hidden": false
    },
    "trusted": true
   },
   "outputs": [],
   "source": [
    "def build_vgg19(dropout_rate=0.5):\n",
    "    base = VGG19(weights='imagenet', include_top=False,\n",
    "                 input_shape=(224, 224, 3))\n",
    "    for layer in base.layers:\n",
    "        layer.trainable = False\n",
    "\n",
    "    x = Flatten()(base.output)\n",
    "    x = Dense(256, activation='relu')(x)\n",
    "    x = Dropout(dropout_rate)(x)\n",
    "    out = Dense(1, activation='sigmoid')(x)\n",
    "\n",
    "    model = Model(inputs=base.input, outputs=out)\n",
    "    return model\n",
    "    "
   ]
  },
  {
   "cell_type": "markdown",
   "metadata": {
    "_cell_guid": "f5dc9572-c702-430d-8165-1d077a48b476",
    "_uuid": "de3b4223-17ea-43c8-b2ef-322bf225286d",
    "collapsed": false,
    "jupyter": {
     "outputs_hidden": false
    },
    "trusted": true
   },
   "source": [
    "# Prepare Dataset & Generators"
   ]
  },
  {
   "cell_type": "code",
   "execution_count": 3,
   "metadata": {
    "_cell_guid": "f4b03ba2-9f09-44a6-86d4-8fdcff6b76ad",
    "_uuid": "ecbb632a-ac5f-4d3b-a20d-c3a0458b5edd",
    "collapsed": false,
    "execution": {
     "iopub.execute_input": "2025-04-20T12:46:17.725956Z",
     "iopub.status.busy": "2025-04-20T12:46:17.725359Z",
     "iopub.status.idle": "2025-04-20T12:51:44.467197Z",
     "shell.execute_reply": "2025-04-20T12:51:44.466649Z",
     "shell.execute_reply.started": "2025-04-20T12:46:17.725932Z"
    },
    "jupyter": {
     "outputs_hidden": false
    },
    "trusted": true
   },
   "outputs": [
    {
     "name": "stdout",
     "output_type": "stream",
     "text": [
      "Found 100000 images belonging to 2 classes.\n",
      "Found 20000 images belonging to 2 classes.\n",
      "Found 20000 images belonging to 2 classes.\n"
     ]
    }
   ],
   "source": [
    "# Paths\n",
    "import os\n",
    "import shutil\n",
    "from sklearn.model_selection import train_test_split\n",
    "from tensorflow.keras.preprocessing.image import ImageDataGenerator\n",
    "from tensorflow.keras.applications.vgg19 import preprocess_input\n",
    "\n",
    "data_dir = \"/kaggle/input/cifake-real-and-ai-generated-synthetic-images/train\"\n",
    "val_dir  = \"/kaggle/working/validation\"\n",
    "\n",
    "# Create validation split\n",
    "for cls in ['REAL', 'FAKE']:\n",
    "    os.makedirs(os.path.join(val_dir, cls), exist_ok=True)\n",
    "    files = os.listdir(os.path.join(data_dir, cls))\n",
    "    _, val_files = train_test_split(files, test_size=0.2, random_state=42)\n",
    "    for f in val_files:\n",
    "        src = os.path.join(data_dir, cls, f)\n",
    "        dst = os.path.join(val_dir, cls, f)\n",
    "        # Copy across filesystems instead of os.replace\n",
    "        shutil.copyfile(src, dst)\n",
    "\n",
    "# Generators\n",
    "train_gen = ImageDataGenerator(preprocessing_function=preprocess_input).flow_from_directory(\n",
    "    data_dir,\n",
    "    target_size=(224, 224),\n",
    "    batch_size=32,\n",
    "    class_mode='binary',\n",
    "    shuffle=True\n",
    ")\n",
    "\n",
    "val_gen = ImageDataGenerator(preprocessing_function=preprocess_input).flow_from_directory(\n",
    "    val_dir,\n",
    "    target_size=(224, 224),\n",
    "    batch_size=32,\n",
    "    class_mode='binary',\n",
    "    shuffle=False\n",
    ")\n",
    "\n",
    "test_gen = ImageDataGenerator(preprocessing_function=preprocess_input).flow_from_directory(\n",
    "    \"/kaggle/input/cifake-real-and-ai-generated-synthetic-images/test\",\n",
    "    target_size=(224, 224),\n",
    "    batch_size=32,\n",
    "    class_mode='binary',\n",
    "    shuffle=False\n",
    ")"
   ]
  },
  {
   "cell_type": "markdown",
   "metadata": {
    "_cell_guid": "5e5fcf7f-602f-4b1f-901c-3cbd63b9a02f",
    "_uuid": "1de5fff0-e188-4975-9e9e-44b69b7721f0",
    "collapsed": false,
    "jupyter": {
     "outputs_hidden": false
    },
    "trusted": true
   },
   "source": [
    "# Adversarial Attack Functions (same as before)"
   ]
  },
  {
   "cell_type": "code",
   "execution_count": 4,
   "metadata": {
    "_cell_guid": "8d7c5c8f-7efa-486d-9c24-8cc5e13c3195",
    "_uuid": "e3a412e6-9c43-49d9-b127-df93356b4a9a",
    "collapsed": false,
    "execution": {
     "iopub.execute_input": "2025-04-20T12:53:23.422767Z",
     "iopub.status.busy": "2025-04-20T12:53:23.422423Z",
     "iopub.status.idle": "2025-04-20T12:53:23.429836Z",
     "shell.execute_reply": "2025-04-20T12:53:23.429231Z",
     "shell.execute_reply.started": "2025-04-20T12:53:23.422743Z"
    },
    "jupyter": {
     "outputs_hidden": false
    },
    "trusted": true
   },
   "outputs": [],
   "source": [
    "@tf.function\n",
    "def fgsm_attack(model, images, labels, epsilon=0.05):\n",
    "    with tf.GradientTape() as tape:\n",
    "        tape.watch(images)\n",
    "        preds = model(images)\n",
    "        loss = tf.keras.losses.BinaryCrossentropy()(labels, preds)\n",
    "    grad = tape.gradient(loss, images)\n",
    "    adv = images + epsilon * tf.sign(grad)\n",
    "    return tf.clip_by_value(adv, -1.0, 1.0)\n",
    "\n",
    "@tf.function\n",
    "def pgd_attack(x, y, model, loss_fn,\n",
    "               epsilon=0.03, alpha=0.007, iters=10):\n",
    "    x_adv = tf.identity(x)\n",
    "    for _ in range(iters):\n",
    "        with tf.GradientTape() as tape:\n",
    "            tape.watch(x_adv)\n",
    "            pred = model(x_adv, training=False)\n",
    "            loss = loss_fn(y, pred)\n",
    "        grad = tape.gradient(loss, x_adv)\n",
    "        x_adv = x_adv + alpha * tf.sign(grad)\n",
    "        x_adv = tf.clip_by_value(x_adv, x - epsilon, x + epsilon) \n",
    "        x_adv = tf.clip_by_value(x_adv, -1.0, 1.0)\n",
    "    return x_adv"
   ]
  },
  {
   "cell_type": "markdown",
   "metadata": {
    "_cell_guid": "fab73868-8810-4bb6-b800-0ad71411448b",
    "_uuid": "1a9eb1fd-d230-409f-8fb4-780b71f0b664",
    "collapsed": false,
    "jupyter": {
     "outputs_hidden": false
    },
    "trusted": true
   },
   "source": [
    "# Train & Save Baseline Model"
   ]
  },
  {
   "cell_type": "code",
   "execution_count": 5,
   "metadata": {
    "_cell_guid": "6a5d4a8a-4a1c-4e2a-96ed-4ac6f1d6524d",
    "_uuid": "5a1dfae7-76c0-48cb-b038-b023ed6225af",
    "collapsed": false,
    "execution": {
     "iopub.execute_input": "2025-04-20T12:53:27.046127Z",
     "iopub.status.busy": "2025-04-20T12:53:27.045865Z",
     "iopub.status.idle": "2025-04-20T12:53:27.049846Z",
     "shell.execute_reply": "2025-04-20T12:53:27.049043Z",
     "shell.execute_reply.started": "2025-04-20T12:53:27.046108Z"
    },
    "jupyter": {
     "outputs_hidden": false
    },
    "trusted": true
   },
   "outputs": [],
   "source": [
    "baseline_weights = \"/kaggle/working/vgg19_baseline.weights.h5\"\n",
    "baseline_model_path = \"/kaggle/working/vgg19_baseline_model.h5\""
   ]
  },
  {
   "cell_type": "code",
   "execution_count": 6,
   "metadata": {
    "_cell_guid": "dba9e133-c83b-4a99-b4ab-0cce00229537",
    "_uuid": "e4168d29-5e65-404f-8ae0-a0e024731ac0",
    "collapsed": false,
    "execution": {
     "iopub.execute_input": "2025-04-20T12:53:29.351844Z",
     "iopub.status.busy": "2025-04-20T12:53:29.350966Z",
     "iopub.status.idle": "2025-04-20T13:30:47.027949Z",
     "shell.execute_reply": "2025-04-20T13:30:47.027149Z",
     "shell.execute_reply.started": "2025-04-20T12:53:29.351817Z"
    },
    "jupyter": {
     "outputs_hidden": false
    },
    "trusted": true
   },
   "outputs": [
    {
     "name": "stderr",
     "output_type": "stream",
     "text": [
      "I0000 00:00:1745153609.481567      31 gpu_device.cc:2022] Created device /job:localhost/replica:0/task:0/device:GPU:0 with 15513 MB memory:  -> device: 0, name: Tesla P100-PCIE-16GB, pci bus id: 0000:00:04.0, compute capability: 6.0\n"
     ]
    },
    {
     "name": "stdout",
     "output_type": "stream",
     "text": [
      "Downloading data from https://storage.googleapis.com/tensorflow/keras-applications/vgg19/vgg19_weights_tf_dim_ordering_tf_kernels_notop.h5\n",
      "\u001b[1m80134624/80134624\u001b[0m \u001b[32m━━━━━━━━━━━━━━━━━━━━\u001b[0m\u001b[37m\u001b[0m \u001b[1m3s\u001b[0m 0us/step\n",
      "Epoch 1/3\n"
     ]
    },
    {
     "name": "stderr",
     "output_type": "stream",
     "text": [
      "WARNING: All log messages before absl::InitializeLog() is called are written to STDERR\n",
      "I0000 00:00:1745153619.737121     115 service.cc:148] XLA service 0x7f148000fc00 initialized for platform CUDA (this does not guarantee that XLA will be used). Devices:\n",
      "I0000 00:00:1745153619.737958     115 service.cc:156]   StreamExecutor device (0): Tesla P100-PCIE-16GB, Compute Capability 6.0\n",
      "I0000 00:00:1745153620.125694     115 cuda_dnn.cc:529] Loaded cuDNN version 90300\n"
     ]
    },
    {
     "name": "stdout",
     "output_type": "stream",
     "text": [
      "\u001b[1m   2/3125\u001b[0m \u001b[37m━━━━━━━━━━━━━━━━━━━━\u001b[0m \u001b[1m4:50\u001b[0m 93ms/step - accuracy: 0.5781 - loss: 10.5948  "
     ]
    },
    {
     "name": "stderr",
     "output_type": "stream",
     "text": [
      "I0000 00:00:1745153628.536946     115 device_compiler.h:188] Compiled cluster using XLA!  This line is logged at most once for the lifetime of the process.\n"
     ]
    },
    {
     "name": "stdout",
     "output_type": "stream",
     "text": [
      "\u001b[1m3125/3125\u001b[0m \u001b[32m━━━━━━━━━━━━━━━━━━━━\u001b[0m\u001b[37m\u001b[0m \u001b[1m820s\u001b[0m 259ms/step - accuracy: 0.8540 - loss: 0.6093 - val_accuracy: 0.9190 - val_loss: 0.2061\n",
      "Epoch 2/3\n",
      "\u001b[1m3125/3125\u001b[0m \u001b[32m━━━━━━━━━━━━━━━━━━━━\u001b[0m\u001b[37m\u001b[0m \u001b[1m712s\u001b[0m 227ms/step - accuracy: 0.9026 - loss: 0.2380 - val_accuracy: 0.9343 - val_loss: 0.1699\n",
      "Epoch 3/3\n",
      "\u001b[1m3125/3125\u001b[0m \u001b[32m━━━━━━━━━━━━━━━━━━━━\u001b[0m\u001b[37m\u001b[0m \u001b[1m699s\u001b[0m 223ms/step - accuracy: 0.9110 - loss: 0.2216 - val_accuracy: 0.9434 - val_loss: 0.1438\n",
      "Baseline model trained and saved.\n"
     ]
    }
   ],
   "source": [
    "if os.path.exists(baseline_model_path):\n",
    "    baseline_model = load_model(baseline_model_path)\n",
    "    print(\"Loaded existing baseline model.\")\n",
    "else:\n",
    "    baseline_model = build_vgg19()\n",
    "    baseline_model.compile(optimizer='adam',\n",
    "                         loss='binary_crossentropy',\n",
    "                         metrics=['accuracy'])\n",
    "    baseline_model.fit(\n",
    "        train_gen, epochs=3, validation_data=val_gen)\n",
    "    baseline_model.save_weights(baseline_weights)\n",
    "    baseline_model.save(baseline_model_path)\n",
    "    print(\"Baseline model trained and saved.\")"
   ]
  },
  {
   "cell_type": "markdown",
   "metadata": {
    "_cell_guid": "d8ca871a-b555-49f8-8ccb-63eebbb246e5",
    "_uuid": "68296660-082e-4e5a-a5a4-0c3cdc05190a",
    "collapsed": false,
    "jupyter": {
     "outputs_hidden": false
    },
    "trusted": true
   },
   "source": [
    "# Baseline Evaluation"
   ]
  },
  {
   "cell_type": "code",
   "execution_count": 7,
   "metadata": {
    "_cell_guid": "007d50b0-7ad6-4421-b329-b806076b14a3",
    "_uuid": "09727a24-c69d-4543-b628-fdaac63fd046",
    "collapsed": false,
    "execution": {
     "iopub.execute_input": "2025-04-20T13:34:10.186300Z",
     "iopub.status.busy": "2025-04-20T13:34:10.185590Z",
     "iopub.status.idle": "2025-04-20T13:34:10.194975Z",
     "shell.execute_reply": "2025-04-20T13:34:10.194251Z",
     "shell.execute_reply.started": "2025-04-20T13:34:10.186270Z"
    },
    "jupyter": {
     "outputs_hidden": false
    },
    "trusted": true
   },
   "outputs": [],
   "source": [
    "baseline_model.compile(optimizer='adam',\n",
    "                     loss='binary_crossentropy',\n",
    "                     metrics=['accuracy'])"
   ]
  },
  {
   "cell_type": "code",
   "execution_count": 10,
   "metadata": {
    "_cell_guid": "84e2ec4c-bc85-4fe1-bfac-933c30ad5e0e",
    "_uuid": "586214fb-a251-41ca-97d0-9a8bf50c20c5",
    "collapsed": false,
    "execution": {
     "iopub.execute_input": "2025-04-20T13:36:05.332129Z",
     "iopub.status.busy": "2025-04-20T13:36:05.331265Z",
     "iopub.status.idle": "2025-04-20T13:36:57.204327Z",
     "shell.execute_reply": "2025-04-20T13:36:57.203697Z",
     "shell.execute_reply.started": "2025-04-20T13:36:05.332097Z"
    },
    "jupyter": {
     "outputs_hidden": false
    },
    "trusted": true
   },
   "outputs": [
    {
     "name": "stdout",
     "output_type": "stream",
     "text": [
      "Clean Test Accuracy : 0.9406\n"
     ]
    }
   ],
   "source": [
    "import numpy as np\n",
    "import tensorflow as tf\n",
    "\n",
    "# Number of batches to evaluate (keeps runtime reasonable)\n",
    "num_batches = 20\n",
    "\n",
    "# Containers for accuracies\n",
    "clean_accs = []\n",
    "fgsm_accs  = []\n",
    "pgd_accs   = []\n",
    "\n",
    "# Ensure generator starts from the beginning\n",
    "test_gen.reset()\n",
    "\n",
    "# Loss function for PGD\n",
    "loss_fn = tf.keras.losses.BinaryCrossentropy()\n",
    "\n",
    "for i in range(num_batches):\n",
    "    # Fetch a batch\n",
    "    x_batch, y_batch = next(test_gen)\n",
    "    x_batch_tensor = tf.convert_to_tensor(x_batch)\n",
    "    y_batch_tensor = tf.convert_to_tensor(y_batch)\n",
    "    \n",
    "    # 1) Clean accuracy\n",
    "    preds_clean = baseline_model(x_batch, training=False)\n",
    "    acc_clean = tf.reduce_mean(tf.cast(tf.equal(tf.round(preds_clean), y_batch), tf.float32)).numpy()\n",
    "    clean_accs.append(acc_clean)\n",
    "\n",
    "    # 2) FGSM accuracy\n",
    "    x_adv_fgsm = fgsm_attack(baseline_model, x_batch_tensor, y_batch_tensor)\n",
    "    preds_fgsm = baseline_model(x_adv_fgsm, training=False)\n",
    "    acc_fgsm = tf.reduce_mean(tf.cast(tf.equal(tf.round(preds_fgsm), y_batch), tf.float32)).numpy()\n",
    "    fgsm_accs.append(acc_fgsm)\n",
    "    \n",
    "\n",
    "    # 3) PGD accuracy\n",
    "    x_adv_pgd = pgd_attack(x_batch_tensor, y_batch, baseline_model, loss_fn)\n",
    "    preds_pgd = baseline_model(x_adv_pgd, training=False)\n",
    "    acc_pgd = tf.reduce_mean(tf.cast(tf.equal(tf.round(preds_pgd), y_batch), tf.float32)).numpy()\n",
    "    pgd_accs.append(acc_pgd)\n",
    "\n",
    "# Print averaged results\n",
    "print(f\"Clean Test Accuracy : {np.mean(clean_accs):.4f}\")\n"
   ]
  },
  {
   "cell_type": "code",
   "execution_count": 17,
   "metadata": {
    "execution": {
     "iopub.execute_input": "2025-04-20T13:39:04.913248Z",
     "iopub.status.busy": "2025-04-20T13:39:04.912592Z",
     "iopub.status.idle": "2025-04-20T13:39:04.917333Z",
     "shell.execute_reply": "2025-04-20T13:39:04.916504Z",
     "shell.execute_reply.started": "2025-04-20T13:39:04.913224Z"
    },
    "trusted": true
   },
   "outputs": [
    {
     "name": "stdout",
     "output_type": "stream",
     "text": [
      "FGSM Accuracy    : 0.1562\n",
      "PGD Accuracy     : 0.1021\n"
     ]
    }
   ],
   "source": [
    "print(f\"FGSM Accuracy    : {np.mean(fgsm_accs):.4f}\")\n",
    "print(f\"PGD Accuracy     : {np.mean(pgd_accs):.4f}\")"
   ]
  },
  {
   "cell_type": "markdown",
   "metadata": {
    "_cell_guid": "baa1c5fa-fef6-4a68-8cf9-c4876e5f5b75",
    "_uuid": "456dee8c-97ba-44f2-85f3-5d83742f97c7",
    "collapsed": false,
    "jupyter": {
     "outputs_hidden": false
    },
    "trusted": true
   },
   "source": [
    "# Generate & Save Perturbed Training Data"
   ]
  },
  {
   "cell_type": "code",
   "execution_count": 18,
   "metadata": {
    "_cell_guid": "fff08ce1-2bd8-4fcd-b9b9-99eb81d6b606",
    "_uuid": "373db0ca-03af-47bf-b473-c62409e4d3d2",
    "collapsed": false,
    "execution": {
     "iopub.execute_input": "2025-04-20T13:39:32.889579Z",
     "iopub.status.busy": "2025-04-20T13:39:32.889272Z",
     "iopub.status.idle": "2025-04-20T13:39:35.779665Z",
     "shell.execute_reply": "2025-04-20T13:39:35.779041Z",
     "shell.execute_reply.started": "2025-04-20T13:39:32.889557Z"
    },
    "jupyter": {
     "outputs_hidden": false
    },
    "trusted": true
   },
   "outputs": [
    {
     "name": "stdout",
     "output_type": "stream",
     "text": [
      "\n",
      " Model Summary:\n"
     ]
    },
    {
     "data": {
      "text/html": [
       "<pre style=\"white-space:pre;overflow-x:auto;line-height:normal;font-family:Menlo,'DejaVu Sans Mono',consolas,'Courier New',monospace\"><span style=\"font-weight: bold\">Model: \"functional\"</span>\n",
       "</pre>\n"
      ],
      "text/plain": [
       "\u001b[1mModel: \"functional\"\u001b[0m\n"
      ]
     },
     "metadata": {},
     "output_type": "display_data"
    },
    {
     "data": {
      "text/html": [
       "<pre style=\"white-space:pre;overflow-x:auto;line-height:normal;font-family:Menlo,'DejaVu Sans Mono',consolas,'Courier New',monospace\">┏━━━━━━━━━━━━━━━━━━━━━━━━━━━━━━━━━━━━━━┳━━━━━━━━━━━━━━━━━━━━━━━━━━━━━┳━━━━━━━━━━━━━━━━━┓\n",
       "┃<span style=\"font-weight: bold\"> Layer (type)                         </span>┃<span style=\"font-weight: bold\"> Output Shape                </span>┃<span style=\"font-weight: bold\">         Param # </span>┃\n",
       "┡━━━━━━━━━━━━━━━━━━━━━━━━━━━━━━━━━━━━━━╇━━━━━━━━━━━━━━━━━━━━━━━━━━━━━╇━━━━━━━━━━━━━━━━━┩\n",
       "│ input_layer (<span style=\"color: #0087ff; text-decoration-color: #0087ff\">InputLayer</span>)             │ (<span style=\"color: #00d7ff; text-decoration-color: #00d7ff\">None</span>, <span style=\"color: #00af00; text-decoration-color: #00af00\">224</span>, <span style=\"color: #00af00; text-decoration-color: #00af00\">224</span>, <span style=\"color: #00af00; text-decoration-color: #00af00\">3</span>)         │               <span style=\"color: #00af00; text-decoration-color: #00af00\">0</span> │\n",
       "├──────────────────────────────────────┼─────────────────────────────┼─────────────────┤\n",
       "│ block1_conv1 (<span style=\"color: #0087ff; text-decoration-color: #0087ff\">Conv2D</span>)                │ (<span style=\"color: #00d7ff; text-decoration-color: #00d7ff\">None</span>, <span style=\"color: #00af00; text-decoration-color: #00af00\">224</span>, <span style=\"color: #00af00; text-decoration-color: #00af00\">224</span>, <span style=\"color: #00af00; text-decoration-color: #00af00\">64</span>)        │           <span style=\"color: #00af00; text-decoration-color: #00af00\">1,792</span> │\n",
       "├──────────────────────────────────────┼─────────────────────────────┼─────────────────┤\n",
       "│ block1_conv2 (<span style=\"color: #0087ff; text-decoration-color: #0087ff\">Conv2D</span>)                │ (<span style=\"color: #00d7ff; text-decoration-color: #00d7ff\">None</span>, <span style=\"color: #00af00; text-decoration-color: #00af00\">224</span>, <span style=\"color: #00af00; text-decoration-color: #00af00\">224</span>, <span style=\"color: #00af00; text-decoration-color: #00af00\">64</span>)        │          <span style=\"color: #00af00; text-decoration-color: #00af00\">36,928</span> │\n",
       "├──────────────────────────────────────┼─────────────────────────────┼─────────────────┤\n",
       "│ block1_pool (<span style=\"color: #0087ff; text-decoration-color: #0087ff\">MaxPooling2D</span>)           │ (<span style=\"color: #00d7ff; text-decoration-color: #00d7ff\">None</span>, <span style=\"color: #00af00; text-decoration-color: #00af00\">112</span>, <span style=\"color: #00af00; text-decoration-color: #00af00\">112</span>, <span style=\"color: #00af00; text-decoration-color: #00af00\">64</span>)        │               <span style=\"color: #00af00; text-decoration-color: #00af00\">0</span> │\n",
       "├──────────────────────────────────────┼─────────────────────────────┼─────────────────┤\n",
       "│ block2_conv1 (<span style=\"color: #0087ff; text-decoration-color: #0087ff\">Conv2D</span>)                │ (<span style=\"color: #00d7ff; text-decoration-color: #00d7ff\">None</span>, <span style=\"color: #00af00; text-decoration-color: #00af00\">112</span>, <span style=\"color: #00af00; text-decoration-color: #00af00\">112</span>, <span style=\"color: #00af00; text-decoration-color: #00af00\">128</span>)       │          <span style=\"color: #00af00; text-decoration-color: #00af00\">73,856</span> │\n",
       "├──────────────────────────────────────┼─────────────────────────────┼─────────────────┤\n",
       "│ block2_conv2 (<span style=\"color: #0087ff; text-decoration-color: #0087ff\">Conv2D</span>)                │ (<span style=\"color: #00d7ff; text-decoration-color: #00d7ff\">None</span>, <span style=\"color: #00af00; text-decoration-color: #00af00\">112</span>, <span style=\"color: #00af00; text-decoration-color: #00af00\">112</span>, <span style=\"color: #00af00; text-decoration-color: #00af00\">128</span>)       │         <span style=\"color: #00af00; text-decoration-color: #00af00\">147,584</span> │\n",
       "├──────────────────────────────────────┼─────────────────────────────┼─────────────────┤\n",
       "│ block2_pool (<span style=\"color: #0087ff; text-decoration-color: #0087ff\">MaxPooling2D</span>)           │ (<span style=\"color: #00d7ff; text-decoration-color: #00d7ff\">None</span>, <span style=\"color: #00af00; text-decoration-color: #00af00\">56</span>, <span style=\"color: #00af00; text-decoration-color: #00af00\">56</span>, <span style=\"color: #00af00; text-decoration-color: #00af00\">128</span>)         │               <span style=\"color: #00af00; text-decoration-color: #00af00\">0</span> │\n",
       "├──────────────────────────────────────┼─────────────────────────────┼─────────────────┤\n",
       "│ block3_conv1 (<span style=\"color: #0087ff; text-decoration-color: #0087ff\">Conv2D</span>)                │ (<span style=\"color: #00d7ff; text-decoration-color: #00d7ff\">None</span>, <span style=\"color: #00af00; text-decoration-color: #00af00\">56</span>, <span style=\"color: #00af00; text-decoration-color: #00af00\">56</span>, <span style=\"color: #00af00; text-decoration-color: #00af00\">256</span>)         │         <span style=\"color: #00af00; text-decoration-color: #00af00\">295,168</span> │\n",
       "├──────────────────────────────────────┼─────────────────────────────┼─────────────────┤\n",
       "│ block3_conv2 (<span style=\"color: #0087ff; text-decoration-color: #0087ff\">Conv2D</span>)                │ (<span style=\"color: #00d7ff; text-decoration-color: #00d7ff\">None</span>, <span style=\"color: #00af00; text-decoration-color: #00af00\">56</span>, <span style=\"color: #00af00; text-decoration-color: #00af00\">56</span>, <span style=\"color: #00af00; text-decoration-color: #00af00\">256</span>)         │         <span style=\"color: #00af00; text-decoration-color: #00af00\">590,080</span> │\n",
       "├──────────────────────────────────────┼─────────────────────────────┼─────────────────┤\n",
       "│ block3_conv3 (<span style=\"color: #0087ff; text-decoration-color: #0087ff\">Conv2D</span>)                │ (<span style=\"color: #00d7ff; text-decoration-color: #00d7ff\">None</span>, <span style=\"color: #00af00; text-decoration-color: #00af00\">56</span>, <span style=\"color: #00af00; text-decoration-color: #00af00\">56</span>, <span style=\"color: #00af00; text-decoration-color: #00af00\">256</span>)         │         <span style=\"color: #00af00; text-decoration-color: #00af00\">590,080</span> │\n",
       "├──────────────────────────────────────┼─────────────────────────────┼─────────────────┤\n",
       "│ block3_conv4 (<span style=\"color: #0087ff; text-decoration-color: #0087ff\">Conv2D</span>)                │ (<span style=\"color: #00d7ff; text-decoration-color: #00d7ff\">None</span>, <span style=\"color: #00af00; text-decoration-color: #00af00\">56</span>, <span style=\"color: #00af00; text-decoration-color: #00af00\">56</span>, <span style=\"color: #00af00; text-decoration-color: #00af00\">256</span>)         │         <span style=\"color: #00af00; text-decoration-color: #00af00\">590,080</span> │\n",
       "├──────────────────────────────────────┼─────────────────────────────┼─────────────────┤\n",
       "│ block3_pool (<span style=\"color: #0087ff; text-decoration-color: #0087ff\">MaxPooling2D</span>)           │ (<span style=\"color: #00d7ff; text-decoration-color: #00d7ff\">None</span>, <span style=\"color: #00af00; text-decoration-color: #00af00\">28</span>, <span style=\"color: #00af00; text-decoration-color: #00af00\">28</span>, <span style=\"color: #00af00; text-decoration-color: #00af00\">256</span>)         │               <span style=\"color: #00af00; text-decoration-color: #00af00\">0</span> │\n",
       "├──────────────────────────────────────┼─────────────────────────────┼─────────────────┤\n",
       "│ block4_conv1 (<span style=\"color: #0087ff; text-decoration-color: #0087ff\">Conv2D</span>)                │ (<span style=\"color: #00d7ff; text-decoration-color: #00d7ff\">None</span>, <span style=\"color: #00af00; text-decoration-color: #00af00\">28</span>, <span style=\"color: #00af00; text-decoration-color: #00af00\">28</span>, <span style=\"color: #00af00; text-decoration-color: #00af00\">512</span>)         │       <span style=\"color: #00af00; text-decoration-color: #00af00\">1,180,160</span> │\n",
       "├──────────────────────────────────────┼─────────────────────────────┼─────────────────┤\n",
       "│ block4_conv2 (<span style=\"color: #0087ff; text-decoration-color: #0087ff\">Conv2D</span>)                │ (<span style=\"color: #00d7ff; text-decoration-color: #00d7ff\">None</span>, <span style=\"color: #00af00; text-decoration-color: #00af00\">28</span>, <span style=\"color: #00af00; text-decoration-color: #00af00\">28</span>, <span style=\"color: #00af00; text-decoration-color: #00af00\">512</span>)         │       <span style=\"color: #00af00; text-decoration-color: #00af00\">2,359,808</span> │\n",
       "├──────────────────────────────────────┼─────────────────────────────┼─────────────────┤\n",
       "│ block4_conv3 (<span style=\"color: #0087ff; text-decoration-color: #0087ff\">Conv2D</span>)                │ (<span style=\"color: #00d7ff; text-decoration-color: #00d7ff\">None</span>, <span style=\"color: #00af00; text-decoration-color: #00af00\">28</span>, <span style=\"color: #00af00; text-decoration-color: #00af00\">28</span>, <span style=\"color: #00af00; text-decoration-color: #00af00\">512</span>)         │       <span style=\"color: #00af00; text-decoration-color: #00af00\">2,359,808</span> │\n",
       "├──────────────────────────────────────┼─────────────────────────────┼─────────────────┤\n",
       "│ block4_conv4 (<span style=\"color: #0087ff; text-decoration-color: #0087ff\">Conv2D</span>)                │ (<span style=\"color: #00d7ff; text-decoration-color: #00d7ff\">None</span>, <span style=\"color: #00af00; text-decoration-color: #00af00\">28</span>, <span style=\"color: #00af00; text-decoration-color: #00af00\">28</span>, <span style=\"color: #00af00; text-decoration-color: #00af00\">512</span>)         │       <span style=\"color: #00af00; text-decoration-color: #00af00\">2,359,808</span> │\n",
       "├──────────────────────────────────────┼─────────────────────────────┼─────────────────┤\n",
       "│ block4_pool (<span style=\"color: #0087ff; text-decoration-color: #0087ff\">MaxPooling2D</span>)           │ (<span style=\"color: #00d7ff; text-decoration-color: #00d7ff\">None</span>, <span style=\"color: #00af00; text-decoration-color: #00af00\">14</span>, <span style=\"color: #00af00; text-decoration-color: #00af00\">14</span>, <span style=\"color: #00af00; text-decoration-color: #00af00\">512</span>)         │               <span style=\"color: #00af00; text-decoration-color: #00af00\">0</span> │\n",
       "├──────────────────────────────────────┼─────────────────────────────┼─────────────────┤\n",
       "│ block5_conv1 (<span style=\"color: #0087ff; text-decoration-color: #0087ff\">Conv2D</span>)                │ (<span style=\"color: #00d7ff; text-decoration-color: #00d7ff\">None</span>, <span style=\"color: #00af00; text-decoration-color: #00af00\">14</span>, <span style=\"color: #00af00; text-decoration-color: #00af00\">14</span>, <span style=\"color: #00af00; text-decoration-color: #00af00\">512</span>)         │       <span style=\"color: #00af00; text-decoration-color: #00af00\">2,359,808</span> │\n",
       "├──────────────────────────────────────┼─────────────────────────────┼─────────────────┤\n",
       "│ block5_conv2 (<span style=\"color: #0087ff; text-decoration-color: #0087ff\">Conv2D</span>)                │ (<span style=\"color: #00d7ff; text-decoration-color: #00d7ff\">None</span>, <span style=\"color: #00af00; text-decoration-color: #00af00\">14</span>, <span style=\"color: #00af00; text-decoration-color: #00af00\">14</span>, <span style=\"color: #00af00; text-decoration-color: #00af00\">512</span>)         │       <span style=\"color: #00af00; text-decoration-color: #00af00\">2,359,808</span> │\n",
       "├──────────────────────────────────────┼─────────────────────────────┼─────────────────┤\n",
       "│ block5_conv3 (<span style=\"color: #0087ff; text-decoration-color: #0087ff\">Conv2D</span>)                │ (<span style=\"color: #00d7ff; text-decoration-color: #00d7ff\">None</span>, <span style=\"color: #00af00; text-decoration-color: #00af00\">14</span>, <span style=\"color: #00af00; text-decoration-color: #00af00\">14</span>, <span style=\"color: #00af00; text-decoration-color: #00af00\">512</span>)         │       <span style=\"color: #00af00; text-decoration-color: #00af00\">2,359,808</span> │\n",
       "├──────────────────────────────────────┼─────────────────────────────┼─────────────────┤\n",
       "│ block5_conv4 (<span style=\"color: #0087ff; text-decoration-color: #0087ff\">Conv2D</span>)                │ (<span style=\"color: #00d7ff; text-decoration-color: #00d7ff\">None</span>, <span style=\"color: #00af00; text-decoration-color: #00af00\">14</span>, <span style=\"color: #00af00; text-decoration-color: #00af00\">14</span>, <span style=\"color: #00af00; text-decoration-color: #00af00\">512</span>)         │       <span style=\"color: #00af00; text-decoration-color: #00af00\">2,359,808</span> │\n",
       "├──────────────────────────────────────┼─────────────────────────────┼─────────────────┤\n",
       "│ block5_pool (<span style=\"color: #0087ff; text-decoration-color: #0087ff\">MaxPooling2D</span>)           │ (<span style=\"color: #00d7ff; text-decoration-color: #00d7ff\">None</span>, <span style=\"color: #00af00; text-decoration-color: #00af00\">7</span>, <span style=\"color: #00af00; text-decoration-color: #00af00\">7</span>, <span style=\"color: #00af00; text-decoration-color: #00af00\">512</span>)           │               <span style=\"color: #00af00; text-decoration-color: #00af00\">0</span> │\n",
       "├──────────────────────────────────────┼─────────────────────────────┼─────────────────┤\n",
       "│ flatten (<span style=\"color: #0087ff; text-decoration-color: #0087ff\">Flatten</span>)                    │ (<span style=\"color: #00d7ff; text-decoration-color: #00d7ff\">None</span>, <span style=\"color: #00af00; text-decoration-color: #00af00\">25088</span>)               │               <span style=\"color: #00af00; text-decoration-color: #00af00\">0</span> │\n",
       "├──────────────────────────────────────┼─────────────────────────────┼─────────────────┤\n",
       "│ dense (<span style=\"color: #0087ff; text-decoration-color: #0087ff\">Dense</span>)                        │ (<span style=\"color: #00d7ff; text-decoration-color: #00d7ff\">None</span>, <span style=\"color: #00af00; text-decoration-color: #00af00\">256</span>)                 │       <span style=\"color: #00af00; text-decoration-color: #00af00\">6,422,784</span> │\n",
       "├──────────────────────────────────────┼─────────────────────────────┼─────────────────┤\n",
       "│ dropout (<span style=\"color: #0087ff; text-decoration-color: #0087ff\">Dropout</span>)                    │ (<span style=\"color: #00d7ff; text-decoration-color: #00d7ff\">None</span>, <span style=\"color: #00af00; text-decoration-color: #00af00\">256</span>)                 │               <span style=\"color: #00af00; text-decoration-color: #00af00\">0</span> │\n",
       "├──────────────────────────────────────┼─────────────────────────────┼─────────────────┤\n",
       "│ dense_1 (<span style=\"color: #0087ff; text-decoration-color: #0087ff\">Dense</span>)                      │ (<span style=\"color: #00d7ff; text-decoration-color: #00d7ff\">None</span>, <span style=\"color: #00af00; text-decoration-color: #00af00\">1</span>)                   │             <span style=\"color: #00af00; text-decoration-color: #00af00\">257</span> │\n",
       "└──────────────────────────────────────┴─────────────────────────────┴─────────────────┘\n",
       "</pre>\n"
      ],
      "text/plain": [
       "┏━━━━━━━━━━━━━━━━━━━━━━━━━━━━━━━━━━━━━━┳━━━━━━━━━━━━━━━━━━━━━━━━━━━━━┳━━━━━━━━━━━━━━━━━┓\n",
       "┃\u001b[1m \u001b[0m\u001b[1mLayer (type)                        \u001b[0m\u001b[1m \u001b[0m┃\u001b[1m \u001b[0m\u001b[1mOutput Shape               \u001b[0m\u001b[1m \u001b[0m┃\u001b[1m \u001b[0m\u001b[1m        Param #\u001b[0m\u001b[1m \u001b[0m┃\n",
       "┡━━━━━━━━━━━━━━━━━━━━━━━━━━━━━━━━━━━━━━╇━━━━━━━━━━━━━━━━━━━━━━━━━━━━━╇━━━━━━━━━━━━━━━━━┩\n",
       "│ input_layer (\u001b[38;5;33mInputLayer\u001b[0m)             │ (\u001b[38;5;45mNone\u001b[0m, \u001b[38;5;34m224\u001b[0m, \u001b[38;5;34m224\u001b[0m, \u001b[38;5;34m3\u001b[0m)         │               \u001b[38;5;34m0\u001b[0m │\n",
       "├──────────────────────────────────────┼─────────────────────────────┼─────────────────┤\n",
       "│ block1_conv1 (\u001b[38;5;33mConv2D\u001b[0m)                │ (\u001b[38;5;45mNone\u001b[0m, \u001b[38;5;34m224\u001b[0m, \u001b[38;5;34m224\u001b[0m, \u001b[38;5;34m64\u001b[0m)        │           \u001b[38;5;34m1,792\u001b[0m │\n",
       "├──────────────────────────────────────┼─────────────────────────────┼─────────────────┤\n",
       "│ block1_conv2 (\u001b[38;5;33mConv2D\u001b[0m)                │ (\u001b[38;5;45mNone\u001b[0m, \u001b[38;5;34m224\u001b[0m, \u001b[38;5;34m224\u001b[0m, \u001b[38;5;34m64\u001b[0m)        │          \u001b[38;5;34m36,928\u001b[0m │\n",
       "├──────────────────────────────────────┼─────────────────────────────┼─────────────────┤\n",
       "│ block1_pool (\u001b[38;5;33mMaxPooling2D\u001b[0m)           │ (\u001b[38;5;45mNone\u001b[0m, \u001b[38;5;34m112\u001b[0m, \u001b[38;5;34m112\u001b[0m, \u001b[38;5;34m64\u001b[0m)        │               \u001b[38;5;34m0\u001b[0m │\n",
       "├──────────────────────────────────────┼─────────────────────────────┼─────────────────┤\n",
       "│ block2_conv1 (\u001b[38;5;33mConv2D\u001b[0m)                │ (\u001b[38;5;45mNone\u001b[0m, \u001b[38;5;34m112\u001b[0m, \u001b[38;5;34m112\u001b[0m, \u001b[38;5;34m128\u001b[0m)       │          \u001b[38;5;34m73,856\u001b[0m │\n",
       "├──────────────────────────────────────┼─────────────────────────────┼─────────────────┤\n",
       "│ block2_conv2 (\u001b[38;5;33mConv2D\u001b[0m)                │ (\u001b[38;5;45mNone\u001b[0m, \u001b[38;5;34m112\u001b[0m, \u001b[38;5;34m112\u001b[0m, \u001b[38;5;34m128\u001b[0m)       │         \u001b[38;5;34m147,584\u001b[0m │\n",
       "├──────────────────────────────────────┼─────────────────────────────┼─────────────────┤\n",
       "│ block2_pool (\u001b[38;5;33mMaxPooling2D\u001b[0m)           │ (\u001b[38;5;45mNone\u001b[0m, \u001b[38;5;34m56\u001b[0m, \u001b[38;5;34m56\u001b[0m, \u001b[38;5;34m128\u001b[0m)         │               \u001b[38;5;34m0\u001b[0m │\n",
       "├──────────────────────────────────────┼─────────────────────────────┼─────────────────┤\n",
       "│ block3_conv1 (\u001b[38;5;33mConv2D\u001b[0m)                │ (\u001b[38;5;45mNone\u001b[0m, \u001b[38;5;34m56\u001b[0m, \u001b[38;5;34m56\u001b[0m, \u001b[38;5;34m256\u001b[0m)         │         \u001b[38;5;34m295,168\u001b[0m │\n",
       "├──────────────────────────────────────┼─────────────────────────────┼─────────────────┤\n",
       "│ block3_conv2 (\u001b[38;5;33mConv2D\u001b[0m)                │ (\u001b[38;5;45mNone\u001b[0m, \u001b[38;5;34m56\u001b[0m, \u001b[38;5;34m56\u001b[0m, \u001b[38;5;34m256\u001b[0m)         │         \u001b[38;5;34m590,080\u001b[0m │\n",
       "├──────────────────────────────────────┼─────────────────────────────┼─────────────────┤\n",
       "│ block3_conv3 (\u001b[38;5;33mConv2D\u001b[0m)                │ (\u001b[38;5;45mNone\u001b[0m, \u001b[38;5;34m56\u001b[0m, \u001b[38;5;34m56\u001b[0m, \u001b[38;5;34m256\u001b[0m)         │         \u001b[38;5;34m590,080\u001b[0m │\n",
       "├──────────────────────────────────────┼─────────────────────────────┼─────────────────┤\n",
       "│ block3_conv4 (\u001b[38;5;33mConv2D\u001b[0m)                │ (\u001b[38;5;45mNone\u001b[0m, \u001b[38;5;34m56\u001b[0m, \u001b[38;5;34m56\u001b[0m, \u001b[38;5;34m256\u001b[0m)         │         \u001b[38;5;34m590,080\u001b[0m │\n",
       "├──────────────────────────────────────┼─────────────────────────────┼─────────────────┤\n",
       "│ block3_pool (\u001b[38;5;33mMaxPooling2D\u001b[0m)           │ (\u001b[38;5;45mNone\u001b[0m, \u001b[38;5;34m28\u001b[0m, \u001b[38;5;34m28\u001b[0m, \u001b[38;5;34m256\u001b[0m)         │               \u001b[38;5;34m0\u001b[0m │\n",
       "├──────────────────────────────────────┼─────────────────────────────┼─────────────────┤\n",
       "│ block4_conv1 (\u001b[38;5;33mConv2D\u001b[0m)                │ (\u001b[38;5;45mNone\u001b[0m, \u001b[38;5;34m28\u001b[0m, \u001b[38;5;34m28\u001b[0m, \u001b[38;5;34m512\u001b[0m)         │       \u001b[38;5;34m1,180,160\u001b[0m │\n",
       "├──────────────────────────────────────┼─────────────────────────────┼─────────────────┤\n",
       "│ block4_conv2 (\u001b[38;5;33mConv2D\u001b[0m)                │ (\u001b[38;5;45mNone\u001b[0m, \u001b[38;5;34m28\u001b[0m, \u001b[38;5;34m28\u001b[0m, \u001b[38;5;34m512\u001b[0m)         │       \u001b[38;5;34m2,359,808\u001b[0m │\n",
       "├──────────────────────────────────────┼─────────────────────────────┼─────────────────┤\n",
       "│ block4_conv3 (\u001b[38;5;33mConv2D\u001b[0m)                │ (\u001b[38;5;45mNone\u001b[0m, \u001b[38;5;34m28\u001b[0m, \u001b[38;5;34m28\u001b[0m, \u001b[38;5;34m512\u001b[0m)         │       \u001b[38;5;34m2,359,808\u001b[0m │\n",
       "├──────────────────────────────────────┼─────────────────────────────┼─────────────────┤\n",
       "│ block4_conv4 (\u001b[38;5;33mConv2D\u001b[0m)                │ (\u001b[38;5;45mNone\u001b[0m, \u001b[38;5;34m28\u001b[0m, \u001b[38;5;34m28\u001b[0m, \u001b[38;5;34m512\u001b[0m)         │       \u001b[38;5;34m2,359,808\u001b[0m │\n",
       "├──────────────────────────────────────┼─────────────────────────────┼─────────────────┤\n",
       "│ block4_pool (\u001b[38;5;33mMaxPooling2D\u001b[0m)           │ (\u001b[38;5;45mNone\u001b[0m, \u001b[38;5;34m14\u001b[0m, \u001b[38;5;34m14\u001b[0m, \u001b[38;5;34m512\u001b[0m)         │               \u001b[38;5;34m0\u001b[0m │\n",
       "├──────────────────────────────────────┼─────────────────────────────┼─────────────────┤\n",
       "│ block5_conv1 (\u001b[38;5;33mConv2D\u001b[0m)                │ (\u001b[38;5;45mNone\u001b[0m, \u001b[38;5;34m14\u001b[0m, \u001b[38;5;34m14\u001b[0m, \u001b[38;5;34m512\u001b[0m)         │       \u001b[38;5;34m2,359,808\u001b[0m │\n",
       "├──────────────────────────────────────┼─────────────────────────────┼─────────────────┤\n",
       "│ block5_conv2 (\u001b[38;5;33mConv2D\u001b[0m)                │ (\u001b[38;5;45mNone\u001b[0m, \u001b[38;5;34m14\u001b[0m, \u001b[38;5;34m14\u001b[0m, \u001b[38;5;34m512\u001b[0m)         │       \u001b[38;5;34m2,359,808\u001b[0m │\n",
       "├──────────────────────────────────────┼─────────────────────────────┼─────────────────┤\n",
       "│ block5_conv3 (\u001b[38;5;33mConv2D\u001b[0m)                │ (\u001b[38;5;45mNone\u001b[0m, \u001b[38;5;34m14\u001b[0m, \u001b[38;5;34m14\u001b[0m, \u001b[38;5;34m512\u001b[0m)         │       \u001b[38;5;34m2,359,808\u001b[0m │\n",
       "├──────────────────────────────────────┼─────────────────────────────┼─────────────────┤\n",
       "│ block5_conv4 (\u001b[38;5;33mConv2D\u001b[0m)                │ (\u001b[38;5;45mNone\u001b[0m, \u001b[38;5;34m14\u001b[0m, \u001b[38;5;34m14\u001b[0m, \u001b[38;5;34m512\u001b[0m)         │       \u001b[38;5;34m2,359,808\u001b[0m │\n",
       "├──────────────────────────────────────┼─────────────────────────────┼─────────────────┤\n",
       "│ block5_pool (\u001b[38;5;33mMaxPooling2D\u001b[0m)           │ (\u001b[38;5;45mNone\u001b[0m, \u001b[38;5;34m7\u001b[0m, \u001b[38;5;34m7\u001b[0m, \u001b[38;5;34m512\u001b[0m)           │               \u001b[38;5;34m0\u001b[0m │\n",
       "├──────────────────────────────────────┼─────────────────────────────┼─────────────────┤\n",
       "│ flatten (\u001b[38;5;33mFlatten\u001b[0m)                    │ (\u001b[38;5;45mNone\u001b[0m, \u001b[38;5;34m25088\u001b[0m)               │               \u001b[38;5;34m0\u001b[0m │\n",
       "├──────────────────────────────────────┼─────────────────────────────┼─────────────────┤\n",
       "│ dense (\u001b[38;5;33mDense\u001b[0m)                        │ (\u001b[38;5;45mNone\u001b[0m, \u001b[38;5;34m256\u001b[0m)                 │       \u001b[38;5;34m6,422,784\u001b[0m │\n",
       "├──────────────────────────────────────┼─────────────────────────────┼─────────────────┤\n",
       "│ dropout (\u001b[38;5;33mDropout\u001b[0m)                    │ (\u001b[38;5;45mNone\u001b[0m, \u001b[38;5;34m256\u001b[0m)                 │               \u001b[38;5;34m0\u001b[0m │\n",
       "├──────────────────────────────────────┼─────────────────────────────┼─────────────────┤\n",
       "│ dense_1 (\u001b[38;5;33mDense\u001b[0m)                      │ (\u001b[38;5;45mNone\u001b[0m, \u001b[38;5;34m1\u001b[0m)                   │             \u001b[38;5;34m257\u001b[0m │\n",
       "└──────────────────────────────────────┴─────────────────────────────┴─────────────────┘\n"
      ]
     },
     "metadata": {},
     "output_type": "display_data"
    },
    {
     "data": {
      "text/html": [
       "<pre style=\"white-space:pre;overflow-x:auto;line-height:normal;font-family:Menlo,'DejaVu Sans Mono',consolas,'Courier New',monospace\"><span style=\"font-weight: bold\"> Total params: </span><span style=\"color: #00af00; text-decoration-color: #00af00\">26,447,425</span> (100.89 MB)\n",
       "</pre>\n"
      ],
      "text/plain": [
       "\u001b[1m Total params: \u001b[0m\u001b[38;5;34m26,447,425\u001b[0m (100.89 MB)\n"
      ]
     },
     "metadata": {},
     "output_type": "display_data"
    },
    {
     "data": {
      "text/html": [
       "<pre style=\"white-space:pre;overflow-x:auto;line-height:normal;font-family:Menlo,'DejaVu Sans Mono',consolas,'Courier New',monospace\"><span style=\"font-weight: bold\"> Trainable params: </span><span style=\"color: #00af00; text-decoration-color: #00af00\">6,423,041</span> (24.50 MB)\n",
       "</pre>\n"
      ],
      "text/plain": [
       "\u001b[1m Trainable params: \u001b[0m\u001b[38;5;34m6,423,041\u001b[0m (24.50 MB)\n"
      ]
     },
     "metadata": {},
     "output_type": "display_data"
    },
    {
     "data": {
      "text/html": [
       "<pre style=\"white-space:pre;overflow-x:auto;line-height:normal;font-family:Menlo,'DejaVu Sans Mono',consolas,'Courier New',monospace\"><span style=\"font-weight: bold\"> Non-trainable params: </span><span style=\"color: #00af00; text-decoration-color: #00af00\">20,024,384</span> (76.39 MB)\n",
       "</pre>\n"
      ],
      "text/plain": [
       "\u001b[1m Non-trainable params: \u001b[0m\u001b[38;5;34m20,024,384\u001b[0m (76.39 MB)\n"
      ]
     },
     "metadata": {},
     "output_type": "display_data"
    },
    {
     "name": "stdout",
     "output_type": "stream",
     "text": [
      "\n",
      " Model Visualization:\n"
     ]
    },
    {
     "data": {
      "image/png": "[encoded data removed]",
      "text/plain": [
       "<Figure size 1200x1200 with 1 Axes>"
      ]
     },
     "metadata": {},
     "output_type": "display_data"
    },
    {
     "name": "stdout",
     "output_type": "stream",
     "text": [
      "\n",
      " Total Parameters: 26,447,425\n",
      " Trainable Parameters: 6,423,041\n",
      " Non-trainable Parameters: 20,024,384\n",
      "\n",
      "⏱️ Inference Time for 1 batch (32 samples): 0.0268 seconds\n",
      " Average Time per Image: 0.0008 seconds\n"
     ]
    }
   ],
   "source": [
    "import time\n",
    "from tensorflow.keras.utils import plot_model\n",
    "import matplotlib.pyplot as plt\n",
    "import numpy as np\n",
    "\n",
    "# 1. Print Summary\n",
    "print(\"\\n Model Summary:\")\n",
    "baseline_model.summary()\n",
    "\n",
    "# 2. Plot the Model Architecture\n",
    "print(\"\\n Model Visualization:\")\n",
    "plot_model(baseline_model, show_shapes=True, show_layer_names=True, to_file='model_plot.png')\n",
    "\n",
    "# Display the image in notebook\n",
    "import PIL.Image\n",
    "img = PIL.Image.open('model_plot.png')\n",
    "plt.figure(figsize=(12, 12))\n",
    "plt.imshow(img)\n",
    "plt.axis('off')\n",
    "plt.title(\"Model Architecture\")\n",
    "plt.show()\n",
    "\n",
    "# 3. Count Parameters\n",
    "total_params = baseline_model.count_params()\n",
    "trainable_params = np.sum([np.prod(v.shape) for v in baseline_model.trainable_weights])\n",
    "non_trainable_params = total_params - trainable_params\n",
    "print(f\"\\n Total Parameters: {total_params:,}\")\n",
    "print(f\" Trainable Parameters: {trainable_params:,}\")\n",
    "print(f\" Non-trainable Parameters: {non_trainable_params:,}\")\n",
    "\n",
    "# 5. Inference Time Measurement (on one batch)\n",
    "x_infer, _ = next(test_gen)\n",
    "x_infer = tf.convert_to_tensor(x_infer)\n",
    "\n",
    "start_time = time.time()\n",
    "_ = baseline_model(x_infer, training=False)\n",
    "end_time = time.time()\n",
    "\n",
    "inference_time = end_time - start_time\n",
    "print(f\"\\n⏱️ Inference Time for 1 batch ({x_infer.shape[0]} samples): {inference_time:.4f} seconds\")\n",
    "print(f\" Average Time per Image: {inference_time / x_infer.shape[0]:.4f} seconds\")"
   ]
  },
  {
   "cell_type": "code",
   "execution_count": null,
   "metadata": {
    "_cell_guid": "52aa9e73-728c-4d70-95de-457397bf68a4",
    "_uuid": "ad4ee988-3812-43fd-b0ba-eafb27701535",
    "collapsed": false,
    "execution": {
     "iopub.execute_input": "2025-04-20T13:43:16.640776Z",
     "iopub.status.busy": "2025-04-20T13:43:16.640458Z",
     "iopub.status.idle": "2025-04-20T13:53:01.318601Z",
     "shell.execute_reply": "2025-04-20T13:53:01.317886Z",
     "shell.execute_reply.started": "2025-04-20T13:43:16.640755Z"
    },
    "jupyter": {
     "outputs_hidden": false
    },
    "trusted": true
   },
   "outputs": [
    {
     "name": "stdout",
     "output_type": "stream",
     "text": [
      "Found 100000 images belonging to 2 classes.\n"
     ]
    },
    {
     "name": "stderr",
     "output_type": "stream",
     "text": [
      "100%|██████████| 1562/1562 [09:07<00:00,  2.85it/s]\n"
     ]
    }
   ],
   "source": [
    "\n",
    "\n",
    "pert_dir = \"/kaggle/working/train_perturbed\"\n",
    "for cls in ['REAL','FAKE']:\n",
    "    os.makedirs(os.path.join(pert_dir,cls), exist_ok=True)\n",
    "\n",
    "# reload baseline\n",
    "baseline_model = build_vgg19()\n",
    "baseline_model.load_weights(baseline_weights)\n",
    "\n",
    "no_shuffle = ImageDataGenerator(preprocessing_function=preprocess_input)\n",
    "no_shuffle = no_shuffle.flow_from_directory(\n",
    "    data_dir, \n",
    "    target_size=(224,224), \n",
    "    batch_size=32,\n",
    "    class_mode='binary', \n",
    "    shuffle=False\n",
    ")\n",
    "\n",
    "loss_fn = tf.keras.losses.BinaryCrossentropy()\n",
    "num_batches = len(no_shuffle) // 2\n",
    "for i in tqdm(range(num_batches)):\n",
    "    xb, yb = next(no_shuffle)\n",
    "    idx = no_shuffle.index_array[i*32:(i+1)*32]\n",
    "    paths = [no_shuffle.filepaths[k] for k in idx]\n",
    "    \n",
    "    x_adv = fgsm_attack(\n",
    "        baseline_model,\n",
    "        tf.convert_to_tensor(xb),\n",
    "        tf.convert_to_tensor(yb)\n",
    "    ).numpy()\n",
    "\n",
    "    for j, pth in enumerate(paths):\n",
    "        cls_name = 'REAL' if 'REAL' in pth else 'FAKE'\n",
    "        fn = os.path.basename(pth).replace('.jpg', f'_adv_{i}_{j}.jpg')\n",
    "        savep = os.path.join(pert_dir, cls_name, fn)\n",
    "        tf.keras.preprocessing.image.save_img(savep, x_adv[j])"
   ]
  },
  {
   "cell_type": "markdown",
   "metadata": {
    "_cell_guid": "065c3fb5-bd3c-42f1-b71c-7b6170719615",
    "_uuid": "1f53b005-772b-482c-8524-9aaae720c9a8",
    "collapsed": false,
    "jupyter": {
     "outputs_hidden": false
    },
    "trusted": true
   },
   "source": [
    "# Adversarial Training & Saving"
   ]
  },
  {
   "cell_type": "markdown",
   "metadata": {
    "_cell_guid": "dcf1b843-a782-47c5-bea8-bbd87be66674",
    "_uuid": "7e9a2b7e-d1b1-4a9b-9813-1da303a62b09",
    "collapsed": false,
    "jupyter": {
     "outputs_hidden": false
    },
    "trusted": true
   },
   "source": [
    "# Robustness Evaluation"
   ]
  },
  {
   "cell_type": "code",
   "execution_count": null,
   "metadata": {
    "_cell_guid": "34bf36ed-6ae8-4494-aa97-791030d22627",
    "_uuid": "a26560ef-405c-4707-b708-ea4ad3e72cbb",
    "collapsed": false,
    "execution": {
     "iopub.execute_input": "2025-04-18T14:37:13.210801Z",
     "iopub.status.busy": "2025-04-18T14:37:13.210213Z",
     "iopub.status.idle": "2025-04-18T14:37:58.474150Z",
     "shell.execute_reply": "2025-04-18T14:37:58.473516Z",
     "shell.execute_reply.started": "2025-04-18T13:44:54.526889Z"
    },
    "jupyter": {
     "outputs_hidden": false
    },
    "trusted": true
   },
   "outputs": [],
   "source": [
    "# FGSM adversarial evaluation\n",
    "x_t, y_t = next(test_gen)\n",
    "x_t_tensor = tf.convert_to_tensor(x_t)\n",
    "y_t_tensor = tf.convert_to_tensor(y_t)\n",
    "x_adv_fgsm = fgsm_attack(adv_model, x_t_tensor, y_t_tensor, epsilon=0.05).numpy()\n",
    "fgsm_loss, fgsm_acc = adv_model.evaluate(x_adv_fgsm, y_t, verbose=0)\n",
    "print(f\"FGSM Accuracy on Robust Model: {fgsm_acc:.4f}\")\n",
    "\n",
    "# PGD adversarial evaluation\n",
    "x_p, y_p = next(test_gen)\n",
    "x_p_tensor = tf.convert_to_tensor(x_p)\n",
    "y_p_tensor = tf.convert_to_tensor(y_p)\n",
    "\n",
    "x_adv_pgd = pgd_attack(\n",
    "    x_p_tensor,\n",
    "    y_p_tensor,\n",
    "    adv_model,\n",
    "    loss_fn,\n",
    "    epsilon=0.03,\n",
    "    alpha=0.007,\n",
    "    iters=10\n",
    ").numpy()\n",
    "\n",
    "pgd_loss, pgd_acc = adv_model.evaluate(x_adv_pgd, y_p, verbose=0)\n",
    "print(f\"PGD Accuracy on Robust Model: {pgd_acc:.4f}\")"
   ]
  }
 ],
 "metadata": {
  "kaggle": {
   "accelerator": "gpu",
   "dataSources": [
    {
     "datasetId": 3041726,
     "sourceId": 5256696,
     "sourceType": "datasetVersion"
    }
   ],
   "dockerImageVersionId": 31011,
   "isGpuEnabled": true,
   "isInternetEnabled": true,
   "language": "python",
   "sourceType": "notebook"
  },
  "kernelspec": {
   "display_name": "Python 3",
   "language": "python",
   "name": "python3"
  },
  "language_info": {
   "codemirror_mode": {
    "name": "ipython",
    "version": 3
   },
   "file_extension": ".py",
   "mimetype": "text/x-python",
   "name": "python",
   "nbconvert_exporter": "python",
   "pygments_lexer": "ipython3",
   "version": "3.11.11"
  }
 },
 "nbformat": 4,
 "nbformat_minor": 4
}
